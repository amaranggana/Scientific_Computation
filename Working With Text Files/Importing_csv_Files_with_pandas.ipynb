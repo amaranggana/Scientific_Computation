{
 "cells": [
  {
   "cell_type": "markdown",
   "id": "5d98e34c",
   "metadata": {},
   "source": [
    "***Importing *.csv Files with pandas - Exercise #1***\n",
    "You are provided with a text file named 'Lending-company-100. csv'.\n",
    "Use a variable named filename to store the file's name.\n",
    "Open the file using the open() function and store its entire content into a variable called file.\n",
    "Read the content of the text variable into a separate variable called text.\n",
    "To conclude, print the type of the type of the text variable to confirm that it has been updated.\n",
    "Hint: Use the print() function to display the type of the text variable."
   ]
  },
  {
   "cell_type": "code",
   "execution_count": 7,
   "id": "85a72785",
   "metadata": {},
   "outputs": [
    {
     "name": "stdout",
     "output_type": "stream",
     "text": [
      "<class 'str'>\n"
     ]
    }
   ],
   "source": [
    "filename = 'Lending-company-100.csv'\n",
    "file = open(filename, mode = 'r')\n",
    "text = file.read()\n",
    "print(type(text))"
   ]
  },
  {
   "cell_type": "markdown",
   "id": "369f49da",
   "metadata": {},
   "source": [
    "***Importing *.csv Files with pandas - Exercise #2***\n",
    "You are provided with a text file named 'Lending-company-100. csv'.\n",
    "Import the 'pandas' library using the conventional alias pd.\n",
    "Using the 'pandas' library, load the contents of this *.csv file into a DataFrame.\n",
    "Hint: Use the print() function to display the 'Lending-company-100.csv' data."
   ]
  },
  {
   "cell_type": "code",
   "execution_count": 8,
   "id": "b5b030b5",
   "metadata": {},
   "outputs": [],
   "source": [
    "import pandas as pd"
   ]
  },
  {
   "cell_type": "code",
   "execution_count": null,
   "id": "e4401637",
   "metadata": {},
   "outputs": [
    {
     "name": "stdout",
     "output_type": "stream",
     "text": [
      "    LoanID    StringID    Product CustomerGender      Location    Region  \\\n",
      "0        1    LoanID_1  Product B         Female    Location 3  Region 2   \n",
      "1        2    LoanID_2  Product D         Female    Location 6  Region 6   \n",
      "2        3    LoanID_3  Product B           Male    Location 8  Region 3   \n",
      "3        4    LoanID_4  Product A           Male   Location 26  Region 2   \n",
      "4        5    LoanID_5  Product B         Female   Location 34  Region 3   \n",
      "..     ...         ...        ...            ...           ...       ...   \n",
      "95      96   LoanID_96  Product B         Female    Location 4  Region 7   \n",
      "96      97   LoanID_97  Product B         Female   Location 70  Region 3   \n",
      "97      98   LoanID_98  Product A           Male   Location 45  Region 4   \n",
      "98      99   LoanID_99  Product A           Male    Location 3  Region 4   \n",
      "99     100  LoanID_100  Product B         Female  Location 262  Region 1   \n",
      "\n",
      "    TotalPrice   StartDate  Deposit  DailyRate  TotalDaysYr  AmtPaid36  \\\n",
      "0      17600.0    4/7/2018     2200         45          365       3221   \n",
      "1          NaN    2/1/2019     2200         45          365       3161   \n",
      "2      16600.0   8/12/2016     1000         45          365       2260   \n",
      "3      17600.0         NaN     2200         45          365       3141   \n",
      "4      21250.0  28/10/2017     2200         55          365       3570   \n",
      "..         ...         ...      ...        ...          ...        ...   \n",
      "95     17600.0   11/5/2019     2200         45          365       3501   \n",
      "96     17600.0    1/6/2018     2200         45          365       3500   \n",
      "97     23250.0  25/12/2019     5000         55          365       5600   \n",
      "98     23250.0  23/07/2019     5000         55          365       5600   \n",
      "99     17600.0  30/08/2018     2200         45          365       3301   \n",
      "\n",
      "    AmtPaid60  AmtPaid360 LoanStatus  \n",
      "0        4166       14621     Active  \n",
      "1        4096       16041     Active  \n",
      "2        3205       16340        NaN  \n",
      "3        4166       16321     Active  \n",
      "4        4745       14720     Active  \n",
      "..        ...         ...        ...  \n",
      "95       4981        9996     Active  \n",
      "96       4245       14240     Active  \n",
      "97       6725       15665     Active  \n",
      "98       6715       22600     Active  \n",
      "99       3126       10151     Active  \n",
      "\n",
      "[100 rows x 15 columns]\n"
     ]
    }
   ],
   "source": [
    "df = pd.read_csv('Lending-company-100.csv',header =0) \n",
    "print(df)\n",
    "\n",
    "#Parameter 'header = 0' memberi tahu Python bahwa baris pertama (indeks ke-0) dari file CSV adalah baris header, yaitu baris yang berisi nama-nama kolom."
   ]
  },
  {
   "cell_type": "markdown",
   "id": "a7dbacdd",
   "metadata": {},
   "source": [
    "***Importing *.csv Files with pandas - Exercise #3***\n",
    "You are provided with a text file named 'Lending-company-100. csv'.\n",
    "Determine the type of object created when this *.csv file is read using 'pandas'.\n",
    "Hint: Use the print() function to display the output."
   ]
  },
  {
   "cell_type": "code",
   "execution_count": null,
   "id": "36c71282",
   "metadata": {},
   "outputs": [
    {
     "name": "stdout",
     "output_type": "stream",
     "text": [
      "test\n"
     ]
    }
   ],
   "source": [
    "data = pd.read_csv('Lending-company-100.csv')\n",
    "print(type(data))\n",
    "print(\"test\")"
   ]
  }
 ],
 "metadata": {
  "kernelspec": {
   "display_name": "base",
   "language": "python",
   "name": "python3"
  },
  "language_info": {
   "codemirror_mode": {
    "name": "ipython",
    "version": 3
   },
   "file_extension": ".py",
   "mimetype": "text/x-python",
   "name": "python",
   "nbconvert_exporter": "python",
   "pygments_lexer": "ipython3",
   "version": "3.12.7"
  }
 },
 "nbformat": 4,
 "nbformat_minor": 5
}

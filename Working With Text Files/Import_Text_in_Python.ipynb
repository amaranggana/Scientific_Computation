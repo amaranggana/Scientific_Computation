{
 "cells": [
  {
   "cell_type": "code",
   "execution_count": 3,
   "id": "005589d2",
   "metadata": {},
   "outputs": [],
   "source": [
    "filename = \"source.txt\""
   ]
  },
  {
   "cell_type": "code",
   "execution_count": 4,
   "id": "582b988b",
   "metadata": {},
   "outputs": [
    {
     "name": "stdout",
     "output_type": "stream",
     "text": [
      "source.txt\n"
     ]
    }
   ],
   "source": [
    "print(filename)"
   ]
  },
  {
   "cell_type": "code",
   "execution_count": 17,
   "id": "04e83e70",
   "metadata": {},
   "outputs": [
    {
     "name": "stdout",
     "output_type": "stream",
     "text": [
      "<_io.TextIOWrapper name='source.txt' mode='r' encoding='utf-8'>\n"
     ]
    }
   ],
   "source": [
    "file = open(filename, mode = 'r')\n",
    "print(file)"
   ]
  },
  {
   "cell_type": "code",
   "execution_count": 19,
   "id": "3a865909",
   "metadata": {},
   "outputs": [
    {
     "data": {
      "text/plain": [
       "''"
      ]
     },
     "execution_count": 19,
     "metadata": {},
     "output_type": "execute_result"
    }
   ],
   "source": [
    "file.read() #Kalau ky gini, koneksi langsung closed. Jadi waktu run ulang tidak muncul"
   ]
  },
  {
   "cell_type": "code",
   "execution_count": 14,
   "id": "fa83b22a",
   "metadata": {},
   "outputs": [
    {
     "name": "stdout",
     "output_type": "stream",
     "text": [
      "test textfile\n"
     ]
    }
   ],
   "source": [
    "file = open(filename, mode = 'r')\n",
    "text = file.read()\n",
    "print(text)"
   ]
  },
  {
   "cell_type": "code",
   "execution_count": null,
   "id": "a286d6ad",
   "metadata": {},
   "outputs": [
    {
     "name": "stdout",
     "output_type": "stream",
     "text": [
      "False\n",
      "True\n",
      "test textfile\n"
     ]
    }
   ],
   "source": [
    "filename = \"source.txt\"\n",
    "file = open(filename, mode = 'r')\n",
    "text = file.read()\n",
    "print(file.closed) #Cek apakah koneksi ke file sudah close\n",
    "file.close() #untuk close koneksi\n",
    "print(file.closed)\n",
    "print(text)"
   ]
  },
  {
   "cell_type": "markdown",
   "id": "d52b9df2",
   "metadata": {},
   "source": [
    "Importing Text Files in Python ( with open() ) - Exercise #1\n",
    "You are provided with a text file named 'source.txt'. Store the file's name in a variable called filename. Use another variable, file, to open the file, read its entire content into a variable, and then close it. Store the content of the file in a third variable called text.\n",
    "\n",
    "Use only the open() function to solve the exercise (i.e. do not use the with keyword).\n",
    "\n",
    "Hint: Use the print() function to confirm the file is closed."
   ]
  },
  {
   "cell_type": "code",
   "execution_count": 3,
   "id": "74e8306d",
   "metadata": {},
   "outputs": [
    {
     "name": "stdout",
     "output_type": "stream",
     "text": [
      "True\n"
     ]
    }
   ],
   "source": [
    "filename = 'source.txt'\n",
    " \n",
    "file = open(filename)\n",
    "text = file.read()\n",
    "file.close()\n",
    " \n",
    "print(file.closed)"
   ]
  },
  {
   "cell_type": "markdown",
   "id": "485f2608",
   "metadata": {},
   "source": [
    "You are provided with a text file named 'source.txt'. It's content has been stored in a variable named text.\n",
    "Without removing the existing code in the *.py file, use the with open() syntax to perform the same operation, this time naming the file object out_file, which stands for 'output file'. \n",
    "Use the print() function twice: first, to check the content of the text variable, and then to see what has been stored in out_file."
   ]
  },
  {
   "cell_type": "code",
   "execution_count": 4,
   "id": "caba252f",
   "metadata": {},
   "outputs": [
    {
     "name": "stdout",
     "output_type": "stream",
     "text": [
      "This is the simplest plain text file!\n",
      "<_io.TextIOWrapper name='source.txt' mode='r' encoding='utf-8'>\n"
     ]
    }
   ],
   "source": [
    "filename='source.txt'\n",
    "file = open(filename, mode = 'r')\n",
    "text = file.read()\n",
    "\n",
    "with open(filename, mode=\"r\") as out_file:\n",
    "    out_file.read()\n",
    "print(text)\n",
    "print(out_file)"
   ]
  },
  {
   "cell_type": "markdown",
   "id": "2d61e70b",
   "metadata": {},
   "source": [
    "You are provided with a text file named 'source.txt'.\n",
    "\n",
    "Without removing the existing code in the exercise.py file, use use the with open() syntax to open the file in 'write' mode and replace its content with the the string \"It is not so simple anymore!\". This time, name the file object out_file, which stands for 'output file'. \n",
    "\n",
    "Use the print() function to display the content of the out_file.\n",
    "\n",
    "Note: If you have worked correctly, your output should be a TextIOWrapper."
   ]
  },
  {
   "cell_type": "code",
   "execution_count": 11,
   "id": "154b12e3",
   "metadata": {},
   "outputs": [
    {
     "name": "stdout",
     "output_type": "stream",
     "text": [
      "<_io.TextIOWrapper name='source.txt' mode='w' encoding='utf-8'>\n"
     ]
    }
   ],
   "source": [
    "filename='source.txt'\n",
    "with open(filename, mode=\"w\") as out_file:\n",
    "    out_file.write(\"It is not so simple anymore!\")\n",
    "print(out_file)"
   ]
  },
  {
   "cell_type": "markdown",
   "id": "c29a2a83",
   "metadata": {},
   "source": [
    "You are provided with a text file named 'source.txt', containing the following text:\n",
    "\n",
    "This is the simplest plain text file!\n",
    "\n",
    "The existing code is supposed to be used to open the file in 'write' mode and replace its content with the string \"It is not so simple anymore!\".\n",
    "\n",
    "Now, use a variable named file to open the file again. Read its content and store its data into a separate variable named text, then close the file.\n",
    "\n",
    "Print the content of the text variable to confirm that it has been updated."
   ]
  },
  {
   "cell_type": "code",
   "execution_count": 12,
   "id": "6db7b4f0",
   "metadata": {},
   "outputs": [
    {
     "name": "stdout",
     "output_type": "stream",
     "text": [
      "It is not so simple anymore!\n"
     ]
    }
   ],
   "source": [
    "filename='source.txt'\n",
    "\n",
    "with open(filename, mode = 'w') as out_file:\n",
    "    out_file.write(\"It is not so simple anymore!\")\n",
    "\n",
    "file = open(filename, mode='r')\n",
    "text = file.read()\n",
    "print(text)"
   ]
  },
  {
   "cell_type": "markdown",
   "id": "882ab479",
   "metadata": {},
   "source": [
    "You are provided with a text file named 'source.txt', containing the following text:\n",
    "\n",
    "This is the simplest plain text file!\n",
    "\n",
    "The existing code is supposed to be used to open the file in 'write' mode and replace its content with the string \"It is not so simple anymore!\".\n",
    "\n",
    "Now, use another with open() syntax to read the contents of the file (using the new file object) into a variable named new_text.\n",
    "\n",
    "Print the content of the new_text variable to confirm that it has been updated."
   ]
  },
  {
   "cell_type": "code",
   "execution_count": 13,
   "id": "3d2121d4",
   "metadata": {},
   "outputs": [
    {
     "name": "stdout",
     "output_type": "stream",
     "text": [
      "It is not so simple anymore!\n"
     ]
    }
   ],
   "source": [
    "filename='source.txt'\n",
    "\n",
    "with open(filename, mode = 'w') as out_file:\n",
    "    out_file.write(\"It is not so simple anymore!\")\n",
    "\n",
    "with open(filename, mode ='r') as out_file:\n",
    "    new_text = out_file.read()\n",
    "print(new_text)"
   ]
  },
  {
   "cell_type": "code",
   "execution_count": null,
   "id": "6d1a9da2",
   "metadata": {},
   "outputs": [],
   "source": []
  }
 ],
 "metadata": {
  "kernelspec": {
   "display_name": "base",
   "language": "python",
   "name": "python3"
  },
  "language_info": {
   "codemirror_mode": {
    "name": "ipython",
    "version": 3
   },
   "file_extension": ".py",
   "mimetype": "text/x-python",
   "name": "python",
   "nbconvert_exporter": "python",
   "pygments_lexer": "ipython3",
   "version": "3.12.7"
  }
 },
 "nbformat": 4,
 "nbformat_minor": 5
}

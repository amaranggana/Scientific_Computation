{
 "cells": [
  {
   "cell_type": "code",
   "execution_count": 2,
   "id": "55d405fc",
   "metadata": {},
   "outputs": [],
   "source": [
    "import pandas as pd\n",
    "import json"
   ]
  },
  {
   "cell_type": "markdown",
   "id": "54be984f",
   "metadata": {},
   "source": [
    "***Importing *.json Files - Exercise #1***\n",
    "You are provided with a dictionary named \"data\" containing product names and their respective prices.\n",
    "Additionally, you are given a list named \"product_IDs\" representing product IDs.\n",
    "Convert this data into a DataFrame named \"df\" using the pandas library, setting product_IDs as the index.\n",
    "\n",
    "Note: Use the print() function to display the contents of the DataFrame."
   ]
  },
  {
   "cell_type": "code",
   "execution_count": 13,
   "id": "6f50bf3b",
   "metadata": {},
   "outputs": [
    {
     "name": "stdout",
     "output_type": "stream",
     "text": [
      "  ProductName  ProductPrice\n",
      "A   Product A         22250\n",
      "B   Product B         16600\n",
      "C   Product C         12500\n"
     ]
    }
   ],
   "source": [
    "data = {'ProductName':['Product A', 'Product B', 'Product C'], 'ProductPrice':[22250, 16600, 12500]}\n",
    "product_IDs = ['A', 'B', 'C']\n",
    "df = pd.DataFrame(data, index=product_IDs)\n",
    "\n",
    "print(df)\n"
   ]
  },
  {
   "cell_type": "markdown",
   "id": "39183db3",
   "metadata": {},
   "source": [
    "***Importing *.json Files - Exercise #2***\n",
    "You are provided with a dictionary named \"prices_per_product\", where the keys are product names and the values are their respective prices.\n",
    "Use the print() function to display and review the contents of the dictionary."
   ]
  },
  {
   "cell_type": "code",
   "execution_count": 14,
   "id": "d608cc2c",
   "metadata": {},
   "outputs": [
    {
     "name": "stdout",
     "output_type": "stream",
     "text": [
      "{\"Product A\": 22250, \"Product B\" : 16600, \"Product C\":15600}\n"
     ]
    }
   ],
   "source": [
    "prices_per_product = '{\"Product A\": 22250, \"Product B\" : 16600, \"Product C\":15600}'\n",
    "print(prices_per_product)\n"
   ]
  },
  {
   "cell_type": "markdown",
   "id": "7acce864",
   "metadata": {},
   "source": [
    "*** Importing *.json Files - Exercise #3 ***\n",
    "You are provided with a dictionary named prices_per_product, where the keys are product names and the values are their respective prices.\n",
    "Determine the type of the prices_per_product variable using the print() function."
   ]
  },
  {
   "cell_type": "code",
   "execution_count": null,
   "id": "4e5ed43a",
   "metadata": {},
   "outputs": [
    {
     "name": "stdout",
     "output_type": "stream",
     "text": [
      "<class 'str'>\n"
     ]
    }
   ],
   "source": [
    "prices_per_product = '{\"Product A\": 22250, \"Product B\" : 16600, \"Product C\":15600}'\n",
    "print(type(prices_per_product))"
   ]
  },
  {
   "cell_type": "markdown",
   "id": "ead3e067",
   "metadata": {},
   "source": [
    "*** Importing *.json Files - Exercise #5 ***\n",
    "You are provided with a string representation of a dictionary named prices_per_product.\n",
    "Convert this string into an actual dictionary using the json module.\n",
    "\n",
    "Note: Use the print() function to display the converted dictionary."
   ]
  },
  {
   "cell_type": "code",
   "execution_count": 18,
   "id": "1a1cf2f6",
   "metadata": {},
   "outputs": [
    {
     "name": "stdout",
     "output_type": "stream",
     "text": [
      "{'Product A': 22250, 'Product B': 16600, 'Product C': 15600}\n"
     ]
    }
   ],
   "source": [
    "import json\n",
    "\n",
    "prices_per_product = '{\"Product A\": 22250, \"Product B\" : 16600, \"Product C\":15600}'\n",
    "product_json = json.loads(prices_per_product) # Mengubah dictionary menjadi JSON\n",
    "print(product_json)"
   ]
  },
  {
   "cell_type": "markdown",
   "id": "564cf169",
   "metadata": {},
   "source": [
    "*** Importing *.json Files - Exercise #6 ***\n",
    "You are provided with a string representation of a dictionary named prices_per_product.\n",
    "Convert this string into an actual dictionary using the json module.\n",
    "(Use the print() function to display the type of the parsed variable.)"
   ]
  },
  {
   "cell_type": "code",
   "execution_count": 19,
   "id": "4e7a86cd",
   "metadata": {},
   "outputs": [
    {
     "name": "stdout",
     "output_type": "stream",
     "text": [
      "<class 'dict'>\n"
     ]
    }
   ],
   "source": [
    "prices_per_product = '{\"Product A\": 22250, \"Product B\" : 16600, \"Product C\":15600}'\n",
    "product_json = json.loads(prices_per_product)\n",
    "print(type(product_json))"
   ]
  },
  {
   "cell_type": "markdown",
   "id": "9733c163",
   "metadata": {},
   "source": [
    "*** Importing *.json Files - Exercise #7 ***\n",
    "You are provided with a JSON file named 'Lending-company-100.json'.\n",
    "Read its contents into a DataFrame using the pandas library.\n",
    "Use the print() function to display the entire contents of the DataFrame.\n",
    "Try to solve this exercise by providing a single line of code (and without creating a new variable)."
   ]
  },
  {
   "cell_type": "code",
   "execution_count": 21,
   "id": "7d7e8170",
   "metadata": {},
   "outputs": [
    {
     "name": "stdout",
     "output_type": "stream",
     "text": [
      "    Loan ID\n",
      "0         1\n",
      "1         2\n",
      "2         3\n",
      "3         4\n",
      "4         5\n",
      "..      ...\n",
      "93       94\n",
      "94       95\n",
      "95       96\n",
      "96       97\n",
      "97       98\n",
      "\n",
      "[98 rows x 1 columns]\n"
     ]
    }
   ],
   "source": [
    "data = pd.DataFrame(pd.read_json(\"Lending-company-100.json\"))\n",
    "print(data)"
   ]
  },
  {
   "cell_type": "markdown",
   "id": "ea5517e6",
   "metadata": {},
   "source": [
    "***Importing *.json Files - Exercise #8***\n",
    "You are provided with a JSON file named 'Lending-company-100.json'.\n",
    "Read its contents into a DataFrame using the pandas library and assign it to a variable named new_csv_data.\n",
    "Use the print() function to display the entire contents of the DataFrame."
   ]
  },
  {
   "cell_type": "code",
   "execution_count": 22,
   "id": "60116a67",
   "metadata": {},
   "outputs": [
    {
     "name": "stdout",
     "output_type": "stream",
     "text": [
      "    Loan ID\n",
      "0         1\n",
      "1         2\n",
      "2         3\n",
      "3         4\n",
      "4         5\n",
      "..      ...\n",
      "93       94\n",
      "94       95\n",
      "95       96\n",
      "96       97\n",
      "97       98\n",
      "\n",
      "[98 rows x 1 columns]\n"
     ]
    }
   ],
   "source": [
    "new_csv_data = pd.read_json(\"Lending-company-100.json\")\n",
    "print(new_csv_data)"
   ]
  },
  {
   "cell_type": "markdown",
   "id": "ea52fc35",
   "metadata": {},
   "source": [
    "*** Importing *.json Files - Exercise #9 ***\n",
    "You are provided with a JSON file named 'Lending-company-100.json' and a DataFrame variable named new_csv_data, which contains the contents of the JSON file.\n",
    "Use the print() function to display the type of new_csv_data."
   ]
  },
  {
   "cell_type": "code",
   "execution_count": 23,
   "id": "015693ec",
   "metadata": {},
   "outputs": [
    {
     "name": "stdout",
     "output_type": "stream",
     "text": [
      "<class 'pandas.core.frame.DataFrame'>\n"
     ]
    }
   ],
   "source": [
    "new_csv_data = pd.read_json('Lending-company-100.json')\n",
    "print(type(new_csv_data))"
   ]
  },
  {
   "cell_type": "code",
   "execution_count": null,
   "id": "ca50a186",
   "metadata": {},
   "outputs": [],
   "source": []
  }
 ],
 "metadata": {
  "kernelspec": {
   "display_name": "base",
   "language": "python",
   "name": "python3"
  },
  "language_info": {
   "codemirror_mode": {
    "name": "ipython",
    "version": 3
   },
   "file_extension": ".py",
   "mimetype": "text/x-python",
   "name": "python",
   "nbconvert_exporter": "python",
   "pygments_lexer": "ipython3",
   "version": "3.12.7"
  }
 },
 "nbformat": 4,
 "nbformat_minor": 5
}

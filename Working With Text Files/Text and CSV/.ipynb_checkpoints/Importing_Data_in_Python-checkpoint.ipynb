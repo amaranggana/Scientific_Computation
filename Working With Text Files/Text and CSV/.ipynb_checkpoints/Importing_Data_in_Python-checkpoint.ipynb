{
 "cells": [
  {
   "cell_type": "code",
   "execution_count": 2,
   "id": "cdc286b2",
   "metadata": {},
   "outputs": [],
   "source": [
    "import pandas as pd"
   ]
  },
  {
   "cell_type": "markdown",
   "id": "31e32989",
   "metadata": {},
   "source": [
    "*** Importing Data in Python - Exercise #1 ***\n",
    "You are provided with a CSV file named 'Lending-company-single-column-data.csv'. The data it contains is nearly identical to what you used in the previous coding exercises; however, this time, it has been stored in a single column.\n",
    "Your task is to extract only the columns StringID, Location, and Region, and set StringID as the index of the resulting DataFrame.\n",
    "Store this filtered data in a variable named location_data.\n",
    "Finally, use the print() function to display the first 5 rows of location_data for a quick overview."
   ]
  },
  {
   "cell_type": "code",
   "execution_count": null,
   "id": "50c987fd",
   "metadata": {},
   "outputs": [
    {
     "name": "stdout",
     "output_type": "stream",
     "text": [
      "   LoanID,StringID,Product,CustomerGender,Location,Region,TotalPrice,StartDate,Deposit,DailyRate,TotalDays,AmountPaid30,AmountPaid60,AmountPaid360,LoanStatus360\n",
      "0   1,id_1,Product B,Male,Location 2,Region 2,1660...                                                                                                           \n",
      "1   2,id_2,Product B,Male,Location 3,,16600,1/2/20...                                                                                                           \n",
      "2   3,id_3,Product C,Female,Location 5,Region 5,15...                                                                                                           \n",
      "3   4,id_4,Product B,Male,Location 6,Region 1,1660...                                                                                                           \n",
      "4   5,id_5,Product D,Female,Location 7,Region 2,20...                                                                                                           \n",
      "..                                                ...                                                                                                           \n",
      "95  96,id_96,Product B,Male,Location 53,Region 6,1...                                                                                                           \n",
      "96  97,id_97,Product B,Male,Location 2,Region 2,16...                                                                                                           \n",
      "97  98,id_98,Product A,Female,Location 47,Region 7...                                                                                                           \n",
      "98  99,id_99,Product A,Male,Location 89,Region 6,2...                                                                                                           \n",
      "99  100,id_100,Product B,Male,Location 90,Region 6...                                                                                                           \n",
      "\n",
      "[100 rows x 1 columns]\n"
     ]
    }
   ],
   "source": [
    "location_data = pd.read_csv('Lending-company-single-column-data.csv', usecols= ['StringID', 'Location', 'Region'], index_col= 'StringID')\n",
    "print(location_data.head())"
   ]
  },
  {
   "cell_type": "code",
   "execution_count": null,
   "id": "d27d1036",
   "metadata": {},
   "outputs": [],
   "source": []
  }
 ],
 "metadata": {
  "kernelspec": {
   "display_name": "base",
   "language": "python",
   "name": "python3"
  },
  "language_info": {
   "codemirror_mode": {
    "name": "ipython",
    "version": 3
   },
   "file_extension": ".py",
   "mimetype": "text/x-python",
   "name": "python",
   "nbconvert_exporter": "python",
   "pygments_lexer": "ipython3",
   "version": "3.12.7"
  }
 },
 "nbformat": 4,
 "nbformat_minor": 5
}

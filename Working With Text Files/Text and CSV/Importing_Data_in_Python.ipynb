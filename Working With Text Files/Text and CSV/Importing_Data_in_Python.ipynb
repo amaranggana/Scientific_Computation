{
 "cells": [
  {
   "cell_type": "code",
   "execution_count": 2,
   "id": "cdc286b2",
   "metadata": {},
   "outputs": [],
   "source": [
    "import pandas as pd"
   ]
  },
  {
   "cell_type": "markdown",
   "id": "31e32989",
   "metadata": {},
   "source": [
    "*** Importing Data in Python - Exercise #1 ***\n",
    "You are provided with a CSV file named 'Lending-company-single-column-data.csv'. The data it contains is nearly identical to what you used in the previous coding exercises; however, this time, it has been stored in a single column.\n",
    "Your task is to extract only the columns StringID, Location, and Region, and set StringID as the index of the resulting DataFrame.\n",
    "Store this filtered data in a variable named location_data.\n",
    "Finally, use the print() function to display the first 5 rows of location_data for a quick overview."
   ]
  },
  {
   "cell_type": "code",
   "execution_count": null,
   "id": "50c987fd",
   "metadata": {},
   "outputs": [],
   "source": [
    "location_data = pd.read_csv('Lending-company-single-column-data.csv', usecols= ['StringID', 'Location', 'Region'], index_col= 'StringID')\n",
    "print(location_data.head())"
   ]
  },
  {
   "cell_type": "markdown",
   "id": "f599ddf5",
   "metadata": {},
   "source": [
    "*** Importing Data in Python - Exercise #2 ***\n",
    "You are provided with a CSV file named 'Lending-company-single-column-data.csv'.\n",
    "Read this file into a DataFrame named my_csv_data.\n",
    "Use the print() function to display a five-row preview of the data."
   ]
  },
  {
   "cell_type": "code",
   "execution_count": null,
   "id": "296bc1e9",
   "metadata": {},
   "outputs": [
    {
     "name": "stdout",
     "output_type": "stream",
     "text": [
      "  LoanID,StringID,Product,CustomerGender,Location,Region,TotalPrice,StartDate,Deposit,DailyRate,TotalDays,AmountPaid30,AmountPaid60,AmountPaid360,LoanStatus360\n",
      "0  1,id_1,Product B,Male,Location 2,Region 2,1660...                                                                                                           \n",
      "1  2,id_2,Product B,Male,Location 3,,16600,1/2/20...                                                                                                           \n",
      "2  3,id_3,Product C,Female,Location 5,Region 5,15...                                                                                                           \n",
      "3  4,id_4,Product B,Male,Location 6,Region 1,1660...                                                                                                           \n",
      "4  5,id_5,Product D,Female,Location 7,Region 2,20...                                                                                                           \n"
     ]
    }
   ],
   "source": [
    "filename = 'Lending-company-single-column-data.csv'\n",
    "my_csv_data = pd.read_csv(filename)\n",
    "print(my_csv_data.head())\n",
    "\n",
    "#Fungsi .head() pada Pandas digunakan untuk menampilkan baris teratas dari sebuah DataFrame. \n",
    "#Secara default, .head() akan menampilkan 5 baris pertama, namun kamu juga bisa menentukan jumlah baris yang ingin ditampilkan."
   ]
  },
  {
   "cell_type": "markdown",
   "id": "01bb0760",
   "metadata": {},
   "source": [
    "***Importing Data in Python - Exercise #3***\n",
    "You are provided with a CSV file named 'Lending-company-single-column-data.csv'.\n",
    "Assume that the file may contain formatting irregularities that require more flexible parsing. The engine parameter of pandas’ .read_csv() method allows you to specify the parsing engine, which can help handle such cases.\n",
    "Your task is to read the file without errors by specifying the appropriate separator and using the Python engine. Store the resulting data in a variable named my_csv_data.\n",
    "Use the print() function to display the first 5 rows of the data for a quick overview."
   ]
  },
  {
   "cell_type": "code",
   "execution_count": null,
   "id": "de175bdc",
   "metadata": {},
   "outputs": [
    {
     "name": "stdout",
     "output_type": "stream",
     "text": [
      "  LoanID,StringID,Product,CustomerGender,Location,Region,TotalPrice,StartDate,Deposit,DailyRate,TotalDays,AmountPaid30,AmountPaid60,AmountPaid360,LoanStatus360\n",
      "0  1,id_1,Product B,Male,Location 2,Region 2,1660...                                                                                                           \n",
      "1  2,id_2,Product B,Male,Location 3,,16600,1/2/20...                                                                                                           \n",
      "2  3,id_3,Product C,Female,Location 5,Region 5,15...                                                                                                           \n",
      "3  4,id_4,Product B,Male,Location 6,Region 1,1660...                                                                                                           \n",
      "4  5,id_5,Product D,Female,Location 7,Region 2,20...                                                                                                           \n"
     ]
    }
   ],
   "source": [
    "filename = 'Lending-company-single-column-data.csv'\n",
    "my_csv_data = pd.read_csv(filename, sep = '\\,', engine = 'python')\n",
    "print(my_csv_data.head())"
   ]
  },
  {
   "cell_type": "markdown",
   "id": "5e01033d",
   "metadata": {},
   "source": [
    "***Importing Data in Python - Exercise #4***\n",
    "This coding exercise is nearly identical to the previous one, with the only difference being that you are now asked to set the appropriate delimiter instead of the appropriate separator. Good luck!\n",
    "\n",
    "You are provided with a CSV file named 'Lending-company-single-column-data.csv'.\n",
    "Assume that the file may contain formatting irregularities that require more flexible parsing. The engine parameter of pandas’ .read_csv() method allows you to specify the parsing engine, which can help handle such cases.\n",
    "Your task is to read the file without errors by specifying the appropriate delimiter and using the Python engine. Store the resulting data in a variable named my_csv_data.\n",
    "Use the print() function to display the first 5 rows of the data for a quick overview."
   ]
  },
  {
   "cell_type": "code",
   "execution_count": 26,
   "id": "11a357ad",
   "metadata": {},
   "outputs": [
    {
     "name": "stdout",
     "output_type": "stream",
     "text": [
      "  \"LoanID StringID    Product CustomerGender    Location    Region  \\\n",
      "0      \"1     id_1  Product B           Male  Location 2  Region 2   \n",
      "1      \"2     id_2  Product B           Male  Location 3       NaN   \n",
      "2      \"3     id_3  Product C         Female  Location 5  Region 5   \n",
      "3      \"4     id_4  Product B           Male  Location 6  Region 1   \n",
      "4      \"5     id_5  Product D         Female  Location 7  Region 2   \n",
      "\n",
      "   TotalPrice   StartDate  Deposit  DailyRate  TotalDays  AmountPaid30  \\\n",
      "0     16600.0    7/4/2014     2000         40        365          3121   \n",
      "1     16600.0    1/2/2015     2000         40        365          3061   \n",
      "2     15600.0   12/8/2012     1000         40        365          2160   \n",
      "3     16600.0         NaN     2000         40        365          3041   \n",
      "4     20250.0  10/28/2013     2000         50        365          3470   \n",
      "\n",
      "   AmountPaid60  AmountPaid360 LoanStatus360\"  \n",
      "0          4241          13621        Active\"  \n",
      "1          4171          15041        Active\"  \n",
      "2          3280          15340              \"  \n",
      "3          4241          15321        Active\"  \n",
      "4          4820          13720        Active\"  \n"
     ]
    },
    {
     "name": "stderr",
     "output_type": "stream",
     "text": [
      "<>:2: SyntaxWarning: invalid escape sequence '\\,'\n",
      "<>:2: SyntaxWarning: invalid escape sequence '\\,'\n",
      "C:\\Users\\edipt\\AppData\\Local\\Temp\\ipykernel_22348\\974145833.py:2: SyntaxWarning: invalid escape sequence '\\,'\n",
      "  my_csv_data = pd.read_csv(filename, delimiter = '\\,', engine = 'python')\n"
     ]
    }
   ],
   "source": [
    "filename = 'Lending-company-single-column-data.csv'\n",
    "my_csv_data = pd.read_csv(filename, delimiter = '\\,', engine = 'python')\n",
    "print(my_csv_data.head())"
   ]
  }
 ],
 "metadata": {
  "kernelspec": {
   "display_name": "base",
   "language": "python",
   "name": "python3"
  },
  "language_info": {
   "codemirror_mode": {
    "name": "ipython",
    "version": 3
   },
   "file_extension": ".py",
   "mimetype": "text/x-python",
   "name": "python",
   "nbconvert_exporter": "python",
   "pygments_lexer": "ipython3",
   "version": "3.12.7"
  }
 },
 "nbformat": 4,
 "nbformat_minor": 5
}

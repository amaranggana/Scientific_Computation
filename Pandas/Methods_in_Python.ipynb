{
 "cells": [
  {
   "cell_type": "code",
   "execution_count": 3,
   "id": "2e7080ad",
   "metadata": {},
   "outputs": [],
   "source": [
    "import pandas as pd"
   ]
  },
  {
   "cell_type": "markdown",
   "id": "ef5e8c73",
   "metadata": {},
   "source": [
    "Use an appropriate method to extract the top five values from the employees_work_exp Series.\n",
    "Please be aware that pandas may automatically display the values of the object as floats as opposed to integers"
   ]
  },
  {
   "cell_type": "code",
   "execution_count": null,
   "id": "b6e70e25",
   "metadata": {},
   "outputs": [
    {
     "name": "stdout",
     "output_type": "stream",
     "text": [
      "Amy White              3.0\n",
      "Jack Stewart           5.0\n",
      "Richard Lauderdale     4.5\n",
      "Sara Johnson          22.0\n",
      "Patrick Adams         28.0\n",
      "dtype: float64\n"
     ]
    }
   ],
   "source": [
    "employees_work_exp = pd.Series({\n",
    "'Amy White'   : 3,\n",
    "'Jack Stewart'   : 5,\n",
    "'Richard Lauderdale'  : 4.5,\n",
    "'Sara Johnson'  : 22,\n",
    "'Patrick Adams' : 28,\n",
    "'Jessica Baker'  : 14,\n",
    "'Peter Hunt'   : 4,\n",
    "'Daniel Lloyd'  : 6,\n",
    "'John Owen'   : 1.5,\n",
    "'Jennifer Phillips'  : 10,\n",
    "'Courtney Rogers'   : 4.5,\n",
    "'Anne Robinson'  : 2,\n",
    "})\n",
    "\n",
    "print(employees_work_exp.head())\n",
    "#.head() Menampilkan 5 baris pertama dari DataFrame employees_work_exp."
   ]
  },
  {
   "cell_type": "markdown",
   "id": "b8457aa2",
   "metadata": {},
   "source": [
    "Use a suitable method to extract the last several rows of employees_work_experience."
   ]
  },
  {
   "cell_type": "code",
   "execution_count": 11,
   "id": "65300941",
   "metadata": {},
   "outputs": [
    {
     "name": "stdout",
     "output_type": "stream",
     "text": [
      "Daniel Lloyd          6.0\n",
      "John Owen             1.5\n",
      "Jennifer Phillips    10.0\n",
      "Courtney Rogers       4.5\n",
      "Anne Robinson         2.0\n",
      "dtype: float64\n",
      "\n",
      "\n",
      "Jennifer Phillips    10.0\n",
      "Courtney Rogers       4.5\n",
      "Anne Robinson         2.0\n",
      "dtype: float64\n"
     ]
    }
   ],
   "source": [
    "employees_work_exp = pd.Series({\n",
    "'Amy White'   : 3,\n",
    "'Jack Stewart'   : 5,\n",
    "'Richard Lauderdale'  : 4.5,\n",
    "'Sara Johnson'  : 22,\n",
    "'Patrick Adams' : 28,\n",
    "'Jessica Baker'  : 14,\n",
    "'Peter Hunt'   : 4,\n",
    "'Daniel Lloyd'  : 6,\n",
    "'John Owen'   : 1.5,\n",
    "'Jennifer Phillips'  : 10,\n",
    "'Courtney Rogers'   : 4.5,\n",
    "'Anne Robinson'  : 2,\n",
    "})\n",
    "\n",
    "print(employees_work_exp.tail())\n",
    "#.tail() Menampilkan 5 baris terakhir dari DataFrame employees_work_exp.\n",
    "print('\\n')\n",
    "print(employees_work_exp.tail(3)) #diisi aja dalam kurungnya buat nampilin berapa banyak. Defaultnya 5"
   ]
  },
  {
   "cell_type": "code",
   "execution_count": null,
   "id": "a96c2291",
   "metadata": {},
   "outputs": [],
   "source": []
  }
 ],
 "metadata": {
  "kernelspec": {
   "display_name": "base",
   "language": "python",
   "name": "python3"
  },
  "language_info": {
   "codemirror_mode": {
    "name": "ipython",
    "version": 3
   },
   "file_extension": ".py",
   "mimetype": "text/x-python",
   "name": "python",
   "nbconvert_exporter": "python",
   "pygments_lexer": "ipython3",
   "version": "3.12.7"
  }
 },
 "nbformat": 4,
 "nbformat_minor": 5
}

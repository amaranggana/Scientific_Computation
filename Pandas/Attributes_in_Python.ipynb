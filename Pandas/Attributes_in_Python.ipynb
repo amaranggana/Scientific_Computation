{
 "cells": [
  {
   "cell_type": "code",
   "execution_count": 5,
   "id": "77543250",
   "metadata": {},
   "outputs": [],
   "source": [
    "import pandas as pd\n",
    "import numpy as np"
   ]
  },
  {
   "cell_type": "code",
   "execution_count": 4,
   "id": "d15b59d0",
   "metadata": {},
   "outputs": [
    {
     "name": "stdout",
     "output_type": "stream",
     "text": [
      "0     5\n",
      "1     8\n",
      "2     3\n",
      "3    10\n",
      "dtype: int64\n"
     ]
    }
   ],
   "source": [
    "work_experience_years = pd.Series([5,8,3,10])\n",
    "print(work_experience_years)"
   ]
  },
  {
   "cell_type": "markdown",
   "id": "77626430",
   "metadata": {},
   "source": [
    "Convert the work_experience_years object from a Pandas Series into a NumPy array"
   ]
  },
  {
   "cell_type": "code",
   "execution_count": 6,
   "id": "fe22bd98",
   "metadata": {},
   "outputs": [
    {
     "name": "stdout",
     "output_type": "stream",
     "text": [
      "[ 5  8  3 10]\n"
     ]
    }
   ],
   "source": [
    "work_experience_years = pd.Series([5,8,3,10])\n",
    "work_experience = np.array(work_experience_years)\n",
    "print(work_experience)"
   ]
  },
  {
   "cell_type": "markdown",
   "id": "4cf8d495",
   "metadata": {},
   "source": [
    "Check the type of the following object:\n",
    "work_experience_years.to_numpy()"
   ]
  },
  {
   "cell_type": "code",
   "execution_count": 9,
   "id": "0496f036",
   "metadata": {},
   "outputs": [
    {
     "name": "stdout",
     "output_type": "stream",
     "text": [
      "<class 'numpy.ndarray'>\n"
     ]
    }
   ],
   "source": [
    "work_experience_years = pd.Series([5,8,3,10])\n",
    "print(type(work_experience_years.to_numpy()))"
   ]
  },
  {
   "cell_type": "markdown",
   "id": "763616f9",
   "metadata": {},
   "source": [
    "Use an attribute to find the number of elements in the underlying data (work_experience_years)."
   ]
  },
  {
   "cell_type": "code",
   "execution_count": 11,
   "id": "168ba977",
   "metadata": {},
   "outputs": [
    {
     "name": "stdout",
     "output_type": "stream",
     "text": [
      "4\n"
     ]
    }
   ],
   "source": [
    "work_experience_years = pd.Series([5,8,3,10])\n",
    "print(work_experience_years.size)"
   ]
  },
  {
   "cell_type": "markdown",
   "id": "7f21d398",
   "metadata": {},
   "source": [
    "Assign the name 'Work Experience (Yrs.)' to the work_experience_years Series."
   ]
  },
  {
   "cell_type": "code",
   "execution_count": 13,
   "id": "fb603bf3",
   "metadata": {},
   "outputs": [
    {
     "name": "stdout",
     "output_type": "stream",
     "text": [
      "0     5\n",
      "1     8\n",
      "2     3\n",
      "3    10\n",
      "Name: Work Experience (Yrs.), dtype: int64\n"
     ]
    }
   ],
   "source": [
    "work_experience_years = pd.Series([5,8,3,10])\n",
    "work_experience_years.name = 'Work Experience (Yrs.)'\n",
    "print(work_experience_years)"
   ]
  },
  {
   "cell_type": "markdown",
   "id": "74115de5",
   "metadata": {},
   "source": [
    "Display the name of the Series."
   ]
  },
  {
   "cell_type": "code",
   "execution_count": 14,
   "id": "694456bb",
   "metadata": {},
   "outputs": [
    {
     "name": "stdout",
     "output_type": "stream",
     "text": [
      "Work Experience (Yrs.)\n"
     ]
    }
   ],
   "source": [
    "work_experience_years = pd.Series([5,8,3,10])\n",
    "work_experience_years.name = \"Work Experience (Yrs.)\"\n",
    "print(work_experience_years.name)"
   ]
  },
  {
   "cell_type": "markdown",
   "id": "015d30a1",
   "metadata": {},
   "source": [
    "Display the Series itself, to see the name appear below the data values it contains."
   ]
  },
  {
   "cell_type": "code",
   "execution_count": 15,
   "id": "4194bbb0",
   "metadata": {},
   "outputs": [
    {
     "name": "stdout",
     "output_type": "stream",
     "text": [
      "0     5\n",
      "1     8\n",
      "2     3\n",
      "3    10\n",
      "Name: Work Experience (Yrs.), dtype: int64\n"
     ]
    }
   ],
   "source": [
    "work_experience_years = pd.Series([5,8,3,10])\n",
    "work_experience_years.name = \"Work Experience (Yrs.)\"\n",
    "print(work_experience_years)"
   ]
  }
 ],
 "metadata": {
  "kernelspec": {
   "display_name": "base",
   "language": "python",
   "name": "python3"
  },
  "language_info": {
   "codemirror_mode": {
    "name": "ipython",
    "version": 3
   },
   "file_extension": ".py",
   "mimetype": "text/x-python",
   "name": "python",
   "nbconvert_exporter": "python",
   "pygments_lexer": "ipython3",
   "version": "3.12.7"
  }
 },
 "nbformat": 4,
 "nbformat_minor": 5
}

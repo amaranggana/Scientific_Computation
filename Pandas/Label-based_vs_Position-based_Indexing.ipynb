{
 "cells": [
  {
   "cell_type": "code",
   "execution_count": null,
   "id": "d99127ba",
   "metadata": {},
   "outputs": [],
   "source": [
    "import pandas as pd"
   ]
  },
  {
   "cell_type": "markdown",
   "id": "3b4791ad",
   "metadata": {},
   "source": [
    "Create a pandas Series object from a dictionary with keys \"Martin\" and \"George\" and values 8 and 5, respectively. Call this Series employees_work_exp, as from \"workers work experience\"."
   ]
  },
  {
   "cell_type": "code",
   "execution_count": 8,
   "id": "e81f2424",
   "metadata": {},
   "outputs": [
    {
     "name": "stdout",
     "output_type": "stream",
     "text": [
      "Martin    8\n",
      "George    5\n",
      "dtype: int64\n"
     ]
    }
   ],
   "source": [
    "employees_work_exp = ({'Martin':8, 'George':5})\n",
    "employees_work_exp = pd.Series (employees_work_exp)\n",
    "print(employees_work_exp)"
   ]
  },
  {
   "cell_type": "markdown",
   "id": "b5d54b14",
   "metadata": {},
   "source": [
    "Retrieve the index values of employees_work_exp to confirm they are labels."
   ]
  },
  {
   "cell_type": "code",
   "execution_count": 9,
   "id": "7daeed9d",
   "metadata": {},
   "outputs": [
    {
     "name": "stdout",
     "output_type": "stream",
     "text": [
      "Index(['Martin', 'George'], dtype='object')\n"
     ]
    }
   ],
   "source": [
    "employees_work_exp = pd.Series({'Martin':8, 'George':5})\n",
    "employees_work_exp.index\n",
    "print(employees_work_exp.index)"
   ]
  }
 ],
 "metadata": {
  "kernelspec": {
   "display_name": "base",
   "language": "python",
   "name": "python3"
  },
  "language_info": {
   "codemirror_mode": {
    "name": "ipython",
    "version": 3
   },
   "file_extension": ".py",
   "mimetype": "text/x-python",
   "name": "python",
   "nbconvert_exporter": "python",
   "pygments_lexer": "ipython3",
   "version": "3.12.7"
  }
 },
 "nbformat": 4,
 "nbformat_minor": 5
}

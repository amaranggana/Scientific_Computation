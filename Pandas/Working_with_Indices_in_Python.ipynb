{
 "cells": [
  {
   "cell_type": "code",
   "execution_count": 3,
   "id": "83f258c7",
   "metadata": {},
   "outputs": [],
   "source": [
    "import pandas as pd\n",
    "import numpy as np"
   ]
  },
  {
   "cell_type": "markdown",
   "id": "9c48d3a2",
   "metadata": {},
   "source": [
    "Extract the first index value to verify that it is of the string data type."
   ]
  },
  {
   "cell_type": "code",
   "execution_count": 12,
   "id": "a00848f2",
   "metadata": {},
   "outputs": [
    {
     "name": "stdout",
     "output_type": "stream",
     "text": [
      "<class 'str'>\n"
     ]
    }
   ],
   "source": [
    "employees_work_exp = pd.Series({'Martin':8, 'George':5})\n",
    "print(type(employees_work_exp.index[0]))"
   ]
  },
  {
   "cell_type": "markdown",
   "id": "56374a04",
   "metadata": {},
   "source": [
    "Create and display a pandas Series object from an array that contains the following values: 44, 54, 65, 35. Call it series_age. Display the created object."
   ]
  },
  {
   "cell_type": "code",
   "execution_count": 24,
   "id": "8f834ce4",
   "metadata": {},
   "outputs": [
    {
     "name": "stdout",
     "output_type": "stream",
     "text": [
      "0    44\n",
      "1    54\n",
      "2    65\n",
      "3    35\n",
      "dtype: int64\n",
      "==============\n",
      "0    44\n",
      "1    54\n",
      "2    65\n",
      "3    35\n",
      "dtype: int64\n"
     ]
    }
   ],
   "source": [
    "#Array Pyhton\n",
    "array_a = [44, 54, 65, 35]\n",
    "series_age = pd.Series(array_a)\n",
    "print(series_age)\n",
    "print(\"==============\")\n",
    "#Array Numpy\n",
    "series_age = pd.Series(np.array([44, 54, 65, 35]))\n",
    "print(series_age)"
   ]
  },
  {
   "cell_type": "markdown",
   "id": "027efc0b",
   "metadata": {},
   "source": [
    "Retrieve the index values of series_age to see they are numbers, which would indicate that they represent positioned data."
   ]
  },
  {
   "cell_type": "code",
   "execution_count": 4,
   "id": "f464bea9",
   "metadata": {},
   "outputs": [
    {
     "name": "stdout",
     "output_type": "stream",
     "text": [
      "RangeIndex(start=0, stop=4, step=1)\n"
     ]
    }
   ],
   "source": [
    "series_age = pd.Series(np.array([44, 54, 65, 35]))\n",
    "print(series_age.index) \n",
    "\n",
    "#series_age.index adalah atribut dari pandas Series yang menyimpan label/index baris. \n",
    "#Bisa berupa angka (default) atau nama seperti di atas. \n",
    "#Sangat berguna untuk mengakses, memfilter, atau memodifikasi data."
   ]
  }
 ],
 "metadata": {
  "kernelspec": {
   "display_name": "base",
   "language": "python",
   "name": "python3"
  },
  "language_info": {
   "codemirror_mode": {
    "name": "ipython",
    "version": 3
   },
   "file_extension": ".py",
   "mimetype": "text/x-python",
   "name": "python",
   "nbconvert_exporter": "python",
   "pygments_lexer": "ipython3",
   "version": "3.12.7"
  }
 },
 "nbformat": 4,
 "nbformat_minor": 5
}

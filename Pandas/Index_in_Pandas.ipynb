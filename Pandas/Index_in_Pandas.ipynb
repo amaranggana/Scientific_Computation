{
 "cells": [
  {
   "cell_type": "code",
   "execution_count": 2,
   "id": "5f558cf5",
   "metadata": {},
   "outputs": [],
   "source": [
    "import pandas as pd"
   ]
  },
  {
   "cell_type": "markdown",
   "id": "2170444e",
   "metadata": {},
   "source": [
    "Create a dictionary named workers_age"
   ]
  },
  {
   "cell_type": "code",
   "execution_count": 9,
   "id": "601576b6",
   "metadata": {},
   "outputs": [
    {
     "name": "stdout",
     "output_type": "stream",
     "text": [
      "{'Amy White': 50, 'Jack Stewart': 53, 'Richard Lauderdale': 35, 'Sara Johnson': 43}\n"
     ]
    }
   ],
   "source": [
    "workers_age = {'Amy White': 50, 'Jack Stewart': 53, 'Richard Lauderdale':35, 'Sara Johnson':43}\n",
    "print(workers_age)"
   ]
  },
  {
   "cell_type": "markdown",
   "id": "bc261317",
   "metadata": {},
   "source": [
    "Verify the type of workers_age is a dictionary."
   ]
  },
  {
   "cell_type": "code",
   "execution_count": 10,
   "id": "1aa7be3d",
   "metadata": {},
   "outputs": [
    {
     "name": "stdout",
     "output_type": "stream",
     "text": [
      "<class 'dict'>\n"
     ]
    }
   ],
   "source": [
    "print(type(workers_age))"
   ]
  },
  {
   "cell_type": "markdown",
   "id": "5744f9f9",
   "metadata": {},
   "source": [
    "Create a Series from workers_age, giving it the same name. Confirm that the task was done correctly by printing out the contents of the newly created object."
   ]
  },
  {
   "cell_type": "code",
   "execution_count": 13,
   "id": "da2ec5cd",
   "metadata": {},
   "outputs": [
    {
     "name": "stdout",
     "output_type": "stream",
     "text": [
      "Amy White             50\n",
      "Jack Stewart          53\n",
      "Richard Lauderdale    35\n",
      "Sara Johnson          43\n",
      "dtype: int64\n"
     ]
    }
   ],
   "source": [
    "workers_age = {'Amy White':50, 'Jack Stewart':53, 'Richard Lauderdale':35, 'Sara Johnson':43}\n",
    "workers_age = pd.Series(workers_age)\n",
    "print(workers_age)"
   ]
  },
  {
   "cell_type": "markdown",
   "id": "981905ab",
   "metadata": {},
   "source": [
    "Verify workers_age is a Series object."
   ]
  },
  {
   "cell_type": "code",
   "execution_count": 15,
   "id": "56c1fcb1",
   "metadata": {},
   "outputs": [
    {
     "name": "stdout",
     "output_type": "stream",
     "text": [
      "<class 'pandas.core.series.Series'>\n"
     ]
    }
   ],
   "source": [
    "workers_age = {'Amy White':50, 'Jack Stewart':53, 'Richard Lauderdale':35, 'Sara Johnson':43}\n",
    "workers_age = pd.Series(workers_age)\n",
    "print(type(workers_age))"
   ]
  },
  {
   "cell_type": "markdown",
   "id": "047cf7a5",
   "metadata": {},
   "source": [
    "Retrieve the index of workers_age."
   ]
  },
  {
   "cell_type": "code",
   "execution_count": null,
   "id": "21d8cb99",
   "metadata": {},
   "outputs": [
    {
     "name": "stdout",
     "output_type": "stream",
     "text": [
      "Index(['Amy White', 'Jack Stewart', 'Richard Lauderdale', 'Sara Johnson'], dtype='object')\n"
     ]
    }
   ],
   "source": [
    "workers_age = {'Amy White':50, 'Jack Stewart':53, 'Richard Lauderdale':35, 'Sara Johnson':43}\n",
    "workers_age = pd.Series(workers_age)\n",
    "workers_age.index #Menampilkan semua label index dari Series tersebut.\n",
    "print(workers_age.index)"
   ]
  }
 ],
 "metadata": {
  "kernelspec": {
   "display_name": "base",
   "language": "python",
   "name": "python3"
  },
  "language_info": {
   "codemirror_mode": {
    "name": "ipython",
    "version": 3
   },
   "file_extension": ".py",
   "mimetype": "text/x-python",
   "name": "python",
   "nbconvert_exporter": "python",
   "pygments_lexer": "ipython3",
   "version": "3.12.7"
  }
 },
 "nbformat": 4,
 "nbformat_minor": 5
}

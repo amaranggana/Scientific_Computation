{
 "cells": [
  {
   "cell_type": "code",
   "execution_count": 2,
   "id": "39af9d6b",
   "metadata": {},
   "outputs": [],
   "source": [
    "import pandas as pd"
   ]
  },
  {
   "cell_type": "markdown",
   "id": "f0bb6e7e",
   "metadata": {},
   "source": [
    "**Task: create a dictionary called data where the values should be lists.**\n",
    "\n",
    "\n",
    "data = .... -> adalah dictionary\n",
    "\n",
    "df = pd.DataFrame(data) -> Kode ini mengubah data menjadi sebuah DataFrame, yaitu struktur data utama di pandas yang mirip tabel Excel dengan baris dan kolom.\n",
    "df adalah nama variable"
   ]
  },
  {
   "cell_type": "code",
   "execution_count": 3,
   "id": "132b05ae",
   "metadata": {},
   "outputs": [
    {
     "name": "stdout",
     "output_type": "stream",
     "text": [
      "                 Name  Age  Working Experience (Yrs.)\n",
      "0           Amy white   50                          5\n",
      "1        Jack Stewart   53                          8\n",
      "2  Richard Lauderdale   35                          3\n",
      "3        Sara Johnson   43                         10\n"
     ]
    }
   ],
   "source": [
    "data = {'Name':['Amy White','Jack Stewart','Richard Lauderdale','Sara Johnson'],'Age':[50,53,35,43],'Working Experience (Yrs.)':[5,8,3,10]}\n",
    "df = pd.DataFrame(data)\n",
    "print(df)"
   ]
  },
  {
   "cell_type": "markdown",
   "id": "dfef0faf",
   "metadata": {},
   "source": [
    "**Create a list named data which should only contain dictionaries as its elements.**"
   ]
  },
  {
   "cell_type": "code",
   "execution_count": 4,
   "id": "2972ba55",
   "metadata": {},
   "outputs": [
    {
     "name": "stdout",
     "output_type": "stream",
     "text": [
      "                 Name  Age  Working Experience (Yrs.)\n",
      "0           Amy White   50                          5\n",
      "1        Jack Stewart   53                          8\n",
      "2  Richard Lauderdale   35                          3\n",
      "3        Sara Johnson   43                         10\n"
     ]
    }
   ],
   "source": [
    "data = [{'Name':'Amy White','Age': 50, 'Working Experience (Yrs.)':5},\n",
    "        {'Name':'Jack Stewart','Age': 53, 'Working Experience (Yrs.)':8},\n",
    "        {'Name':'Richard Lauderdale','Age': 35, 'Working Experience (Yrs.)':3},\n",
    "        {'Name':'Sara Johnson','Age': 43, 'Working Experience (Yrs.)':10}]\n",
    "df = pd.DataFrame(data)\n",
    "print(df)"
   ]
  },
  {
   "cell_type": "markdown",
   "id": "57586a03",
   "metadata": {},
   "source": [
    "**Create a dictionary called data where the values should be pandas Series. Store the pandas Series in variables named names, age, and working_experience_yrs.**"
   ]
  },
  {
   "cell_type": "code",
   "execution_count": 6,
   "id": "d219f933",
   "metadata": {},
   "outputs": [
    {
     "name": "stdout",
     "output_type": "stream",
     "text": [
      "                 Name  Age  Working Experience (Yrs.)\n",
      "0           Amy White   50                          5\n",
      "1        Jack Stewart   53                          8\n",
      "2  Richard Lauderdale   35                          3\n",
      "3        Sara Johnson   43                         10\n"
     ]
    }
   ],
   "source": [
    "names = pd.Series(['Amy White','Jack Stewart','Richard Lauderdale','Sara Johnson'])\n",
    "age = pd.Series([50,53,35,43])\n",
    "working_experience_yrs = pd.Series([5,8,3,10])\n",
    "data = {'Name':names,'Age':age,'Working Experience (Yrs.)':working_experience_yrs}\n",
    "df = pd.DataFrame(data)\n",
    "print(df)"
   ]
  },
  {
   "cell_type": "markdown",
   "id": "00719e8e",
   "metadata": {},
   "source": [
    "**Create a list called data where the values should be lists. Good luck!**"
   ]
  },
  {
   "cell_type": "code",
   "execution_count": 10,
   "id": "a23247d4",
   "metadata": {},
   "outputs": [
    {
     "name": "stdout",
     "output_type": "stream",
     "text": [
      "                 Name  Age  Working Experience (Yrs.)\n",
      "0           Amy White   50                          5\n",
      "1        Jack Stewart   53                          8\n",
      "2  Richard Lauderdale   35                          3\n",
      "3        Sara Johnson   43                         10\n"
     ]
    }
   ],
   "source": [
    "data = [['Amy White',50,5],['Jack Stewart',53,8],['Richard Lauderdale',35,3],['Sara Johnson',43,10]]\n",
    "df = pd.DataFrame(data)\n",
    "df.columns = ['Name','Age','Working Experience (Yrs.)']\n",
    "print(df)"
   ]
  },
  {
   "cell_type": "markdown",
   "id": "7c75a3a9",
   "metadata": {},
   "source": [
    "Modify the provided code to add integers starting from 1 in ascending order as index values.\n",
    "\n",
    "data = {\n",
    "    \"Name\":['Amy White', 'Jack Stewart', 'Richard Lauderdale', 'Sara Johnson'], \n",
    "    \"Age\":[50, 53, 35, 43], \n",
    "    \"Working Experience (Yrs.)\":[5,8,3,10]}\n",
    "df = pd.DataFrame(data)\n",
    "df"
   ]
  },
  {
   "cell_type": "code",
   "execution_count": 22,
   "id": "dd1f6db9",
   "metadata": {},
   "outputs": [
    {
     "name": "stdout",
     "output_type": "stream",
     "text": [
      "                 Name  Age  Working Experience (Yrs.)\n",
      "1           Amy White   50                          5\n",
      "2        Jack Stewart   53                          8\n",
      "3  Richard Lauderdale   35                          3\n",
      "4        Sara Johnson   43                         10\n"
     ]
    }
   ],
   "source": [
    "data = {\n",
    "    \"Name\":['Amy White', 'Jack Stewart', 'Richard Lauderdale', 'Sara Johnson'], \n",
    "    \"Age\":[50, 53, 35, 43], \n",
    "    \"Working Experience (Yrs.)\":[5,8,3,10]}\n",
    "user_id = [1,2,3,4]\n",
    "df = pd.DataFrame(data,index = user_id)\n",
    "print(df)"
   ]
  },
  {
   "cell_type": "markdown",
   "id": "d2c7a744",
   "metadata": {},
   "source": [
    "<u>**Construct a DataFrame in a Professional Way**<u/>"
   ]
  },
  {
   "cell_type": "code",
   "execution_count": 23,
   "id": "225c13c6",
   "metadata": {},
   "outputs": [
    {
     "name": "stdout",
     "output_type": "stream",
     "text": [
      "                 Name  Age  Working Experience (Yrs.)\n",
      "1           Amy White   50                          5\n",
      "2        Jack Stewart   53                          8\n",
      "3  Richard Lauderdale   35                          3\n",
      "4        Sara Johnson   43                         10\n"
     ]
    }
   ],
   "source": [
    "df = pd.DataFrame (data = [['Amy White',50,5],['Jack Stewart',53,8],['Richard Lauderdale',35,3],['Sara Johnson',43,10]],\n",
    "                  columns=['Name', 'Age', 'Working Experience (Yrs.)'],\n",
    "                  index= [1,2,3,4])\n",
    "print(df)"
   ]
  },
  {
   "cell_type": "code",
   "execution_count": null,
   "id": "f81a29a0",
   "metadata": {},
   "outputs": [],
   "source": []
  }
 ],
 "metadata": {
  "kernelspec": {
   "display_name": "base",
   "language": "python",
   "name": "python3"
  },
  "language_info": {
   "codemirror_mode": {
    "name": "ipython",
    "version": 3
   },
   "file_extension": ".py",
   "mimetype": "text/x-python",
   "name": "python",
   "nbconvert_exporter": "python",
   "pygments_lexer": "ipython3",
   "version": "3.12.7"
  }
 },
 "nbformat": 4,
 "nbformat_minor": 5
}

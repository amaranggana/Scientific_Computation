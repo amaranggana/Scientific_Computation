{
 "cells": [
  {
   "cell_type": "code",
   "execution_count": 7,
   "id": "5c23be25",
   "metadata": {},
   "outputs": [],
   "source": [
    "import pandas as pd\n",
    "import numpy as np"
   ]
  },
  {
   "cell_type": "markdown",
   "id": "970cf9e0",
   "metadata": {},
   "source": [
    "Membuat List"
   ]
  },
  {
   "cell_type": "code",
   "execution_count": 8,
   "id": "95457d50",
   "metadata": {},
   "outputs": [
    {
     "name": "stdout",
     "output_type": "stream",
     "text": [
      "<class 'list'>\n"
     ]
    }
   ],
   "source": [
    "employee_names = (['Amy White','Jack Stewart', 'Richard Lauderdale', 'Sara Johnson'])\n",
    "print(type(employee_names))"
   ]
  },
  {
   "cell_type": "markdown",
   "id": "e7f59e33",
   "metadata": {},
   "source": [
    "Mengubah list menjadi Pandas Series"
   ]
  },
  {
   "cell_type": "code",
   "execution_count": 9,
   "id": "12f1358d",
   "metadata": {},
   "outputs": [
    {
     "name": "stdout",
     "output_type": "stream",
     "text": [
      "<class 'pandas.core.series.Series'>\n"
     ]
    }
   ],
   "source": [
    "employee_names = ['Amy White', 'Jack Stewart', 'Richard Lauderdale', 'Sara Johnson']\n",
    "employee_names_Series = pd.Series(employee_names)\n",
    "print(type(employee_names_Series))"
   ]
  },
  {
   "cell_type": "markdown",
   "id": "55827522",
   "metadata": {},
   "source": [
    "Membuat Pandas Series"
   ]
  },
  {
   "cell_type": "code",
   "execution_count": 10,
   "id": "2c8cb2b5",
   "metadata": {},
   "outputs": [
    {
     "name": "stdout",
     "output_type": "stream",
     "text": [
      "0    5\n",
      "1    8\n",
      "2    3\n",
      "dtype: int64\n"
     ]
    }
   ],
   "source": [
    "work_experience_yrs = pd.Series([5,8,3])\n",
    "print(work_experience_yrs)"
   ]
  },
  {
   "cell_type": "markdown",
   "id": "9592d0b4",
   "metadata": {},
   "source": [
    "Mengubah Numpy Array menjadi Panda Series"
   ]
  },
  {
   "cell_type": "code",
   "execution_count": 11,
   "id": "0055c922",
   "metadata": {},
   "outputs": [
    {
     "name": "stdout",
     "output_type": "stream",
     "text": [
      "0    50\n",
      "1    53\n",
      "2    35\n",
      "3    43\n",
      "dtype: int64\n"
     ]
    }
   ],
   "source": [
    "array_age = np.array([50, 53, 35, 43])\n",
    "array_1 = pd.Series(array_age)\n",
    "print(array_1)"
   ]
  },
  {
   "cell_type": "code",
   "execution_count": 12,
   "id": "cb18e4b1",
   "metadata": {},
   "outputs": [
    {
     "name": "stdout",
     "output_type": "stream",
     "text": [
      "<class 'pandas.core.series.Series'>\n"
     ]
    }
   ],
   "source": [
    "array_age = np.array([50, 53, 35, 43])\n",
    "series_age = pd.Series(array_age)\n",
    "print(type(series_age))"
   ]
  }
 ],
 "metadata": {
  "kernelspec": {
   "display_name": "base",
   "language": "python",
   "name": "python3"
  },
  "language_info": {
   "codemirror_mode": {
    "name": "ipython",
    "version": 3
   },
   "file_extension": ".py",
   "mimetype": "text/x-python",
   "name": "python",
   "nbconvert_exporter": "python",
   "pygments_lexer": "ipython3",
   "version": "3.12.7"
  }
 },
 "nbformat": 4,
 "nbformat_minor": 5
}
